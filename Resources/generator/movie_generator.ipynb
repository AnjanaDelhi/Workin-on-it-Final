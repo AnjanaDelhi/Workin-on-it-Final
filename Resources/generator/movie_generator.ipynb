{
  "nbformat": 4,
  "nbformat_minor": 0,
  "metadata": {
    "colab": {
      "name": "movie_generator.ipynb",
      "provenance": [],
      "collapsed_sections": []
    },
    "kernelspec": {
      "name": "python3",
      "display_name": "Python 3",
      "language": "python"
    }
  },
  "cells": [
    {
      "cell_type": "code",
      "metadata": {
        "id": "-v5j-TqTPIG0"
      },
      "source": [
        "import random\n",
        "import pandas as pd"
      ],
      "execution_count": 209,
      "outputs": []
    },
    {
      "cell_type": "code",
      "metadata": {
        "id": "yAPKpmkNPVpk"
      },
      "source": [
        "#director, lead actor, language genre... plot?"
      ],
      "execution_count": 210,
      "outputs": []
    },
    {
      "cell_type": "code",
      "metadata": {
        "colab": {
          "base_uri": "https://localhost:8080/"
        },
        "id": "otm3mR3aUqQQ",
        "outputId": "b281c086-c7b6-45c6-8673-eb9ef4763c49"
      },
      "source": [
        "#director\n",
        "#directed by you! insert name prompt\n",
        "director = input(\"What is your name?: \")"
      ],
      "execution_count": 211,
      "outputs": []
    },
    {
      "cell_type": "code",
      "metadata": {
        "id": "8AG9xstYVlgM"
      },
      "source": [
        "#movie title? mix from all the ones in the csv original title_column\n",
        "#a 2 word movie title from 150 titles\n",
        "# Python code to pick a random \n",
        "# word from a text file \n",
        "  \n",
        "# Open the file in read mode \n",
        "with open(\"movie_titles.txt\", \"r\") as file:\n",
        "    allText = file.read() \n",
        "    words = list(map(str, allText.split())) "
      ],
      "execution_count": 212,
      "outputs": []
    },
    {
      "cell_type": "code",
      "metadata": {
        "id": "5myA4D8LRHi6"
      },
      "source": [
        "#actors. top based on gross income. top 100\n",
        "#a film starring\n",
        "\n",
        "actors = pd.read_csv('actor_names.txt', header=None, names=['actor'])\n",
        "\n",
        "\n",
        "#actor = ['Samuel L. Jackson','Scarlett Johansson','Robert Downey Jr.','Zoe Saldana','Paul Bettany','Mark Ruffalo','Don Cheadle','Alan Tudyk','Johnny Depp','Jeremy Renner','Tom Hanks','Tom Cruise','Morgan Freeman','Chris Evans','Chris Hemsworth','Anthony Daniels', 'Karen Gillan','Stanley Tucci','Michelle Rodriguez','J.K. Simmons','Idris Elba','Cate Blanchett','Will Smith', 'Michael Caine','Stellan Skarsgard','Helena Bonham Carter','Tyrese Gibson','Orlando Bloom','Domhnall Gleeson','Woody Harrelson','Anthony Mackie','John Favreau','Benedict Cumberbatch','Gary Oldman', 'Lupita Nyongo', 'Frank Oz', 'Tom Holland','Steve Buscemi']"
      ],
      "execution_count": 213,
      "outputs": []
    },
    {
      "cell_type": "code",
      "metadata": {
        "id": "zZE2JXmUT8du"
      },
      "source": [
        "#genres\r\n",
        "\r\n",
        "genre = ['Action','Adventure','Animation','Biography','Comedy','Crime','Drama','Family','Fantasy','Horror','Mystery','Romance','Sci-Fi','Thriller']"
      ],
      "execution_count": 214,
      "outputs": []
    },
    {
      "cell_type": "code",
      "metadata": {
        "id": "ddifiDJlUb2s"
      },
      "source": [
        "#language\r\n",
        "\r\n",
        "language = ['English','French','Japanese','Korean','Mandarin','Spanish']"
      ],
      "execution_count": 215,
      "outputs": []
    },
    {
      "cell_type": "code",
      "metadata": {
        "colab": {
          "base_uri": "https://localhost:8080/"
        },
        "id": "ZBwJCIruV_FN",
        "outputId": "e280f597-636e-4c60-8194-6ff7db8f6233"
      },
      "source": [
        "#print out the results\n",
        "\n",
        "print(actors.sample(n=1).values[0,0] + ' will be the lead actor in a(n) ' + random.choice(language) + ' ' + random.choice(genre) + ' film directed by '\n",
        " + (director) + ' ' + 'titled ' + random.choice(words) + ' ' + random.choice(words)  + '.')"
      ],
      "execution_count": 223,
      "outputs": [
        {
          "output_type": "stream",
          "name": "stdout",
          "text": [
            "Steve Buscemi will be the lead actor in a(n) Spanish Animation film directed by Sara titled Pets Colony.\n"
          ]
        }
      ]
    },
    {
      "cell_type": "code",
      "execution_count": null,
      "metadata": {},
      "outputs": [],
      "source": []
    }
  ]
}