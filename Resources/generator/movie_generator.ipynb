{
  "nbformat": 4,
  "nbformat_minor": 0,
  "metadata": {
    "colab": {
      "name": "movie_generator.ipynb",
      "provenance": [],
      "collapsed_sections": []
    },
    "kernelspec": {
      "name": "python3",
      "display_name": "Python 3",
      "language": "python"
    }
  },
  "cells": [
    {
      "cell_type": "code",
      "metadata": {
        "id": "-v5j-TqTPIG0"
      },
      "source": [
        "import random\n"
      ],
      "execution_count": 150,
      "outputs": []
    },
    {
      "cell_type": "code",
      "metadata": {
        "id": "yAPKpmkNPVpk"
      },
      "source": [
        "#director, lead actor, language genre... plot?"
      ],
      "execution_count": 151,
      "outputs": []
    },
    {
      "cell_type": "code",
      "metadata": {
        "colab": {
          "base_uri": "https://localhost:8080/",
          "height": 232
        },
        "id": "hKDcSdFRblk5",
        "outputId": "17dd3617-73a9-470e-9128-ba66935af24d"
      },
      "source": [
        "#a 2 word movie title from 150 titles\n",
        "# Python code to pick a random \n",
        "# word from a text file \n",
        "  \n",
        "# Open the file in read mode \n",
        "with open(\"movie_titles.txt\", \"r\") as file:\n",
        "    allText = file.read() \n",
        "    words = list(map(str, allText.split())) "
      ],
      "execution_count": 152,
      "outputs": []
    },
    {
      "cell_type": "code",
      "metadata": {
        "colab": {
          "base_uri": "https://localhost:8080/"
        },
        "id": "otm3mR3aUqQQ",
        "outputId": "b281c086-c7b6-45c6-8673-eb9ef4763c49"
      },
      "source": [
        "#director\n",
        "#directed by you! insert name prompt\n",
        "#director = input(\"What is your name?: \")"
      ],
      "execution_count": 153,
      "outputs": []
    },
    {
      "cell_type": "code",
      "metadata": {
        "id": "5myA4D8LRHi6"
      },
      "source": [
        "#actors. top based on gross income. top 100\n",
        "#a film starring\n",
        "\n",
        "\n",
        "\n",
        "#actor = ['Samuel L. Jackson','Scarlett Johansson','Robert Downey Jr.','Zoe Saldana','Paul Bettany','Mark Ruffalo','Don Cheadle','Alan Tudyk','Johnny Depp','Jeremy Renner','Tom Hanks','Tom Cruise','Morgan Freeman','Chris Evans','Chris Hemsworth','Anthony Daniels', 'Karen Gillan','Stanley Tucci','Michelle Rodriguez','J.K. Simmons','Idris Elba','Cate Blanchett','Will Smith', 'Michael Caine','Stellan Skarsgard','Helena Bonham Carter','Tyrese Gibson','Orlando Bloom','Domhnall Gleeson','Woody Harrelson','Anthony Mackie','John Favreau','Benedict Cumberbatch','Gary Oldman', 'Lupita Nyongo', 'Frank Oz', 'Tom Holland','Steve Buscemi',]"
      ],
      "execution_count": 154,
      "outputs": []
    },
    {
      "cell_type": "code",
      "metadata": {
        "id": "zZE2JXmUT8du"
      },
      "source": [
        "#genres\r\n",
        "\r\n",
        "genre = ['Action','Adventure','Animation','Biography','Comedy','Crime','Drama','Family','Fantasy','Horror','Mystery','Romance','Sci-Fi','Thriller']"
      ],
      "execution_count": 155,
      "outputs": []
    },
    {
      "cell_type": "code",
      "metadata": {
        "id": "ddifiDJlUb2s"
      },
      "source": [
        "#language\r\n",
        "\r\n",
        "language = ['English','French','Japanese','Korean','Mandarin','Spanish']"
      ],
      "execution_count": 156,
      "outputs": []
    },
    {
      "cell_type": "code",
      "metadata": {
        "id": "8AG9xstYVlgM"
      },
      "source": [
        "#movie title? mix from all the ones in the csv original title_column\r\n",
        "title = 'insert here'"
      ],
      "execution_count": 157,
      "outputs": []
    },
    {
      "cell_type": "code",
      "metadata": {
        "colab": {
          "base_uri": "https://localhost:8080/"
        },
        "id": "ZBwJCIruV_FN",
        "outputId": "e280f597-636e-4c60-8194-6ff7db8f6233"
      },
      "source": [
        "#print out the results\n",
        "\n",
        "print(random.choice(actor) + ' will be the lead actor in a(n) ' + random.choice(language) + ' ' + random.choice(genre) + ' film directed by '\n",
        " + (director) + ' ' + 'titled ' + random.choice(words) + ' ' + random.choice(words)  + '.')"
      ],
      "execution_count": 158,
      "outputs": [
        {
          "output_type": "stream",
          "name": "stdout",
          "text": [
            "  will be the lead actor in a(n) Japanese Drama film directed by Sara titled Alive Face.\n"
          ]
        }
      ]
    }
  ]
}